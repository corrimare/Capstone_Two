{
 "cells": [
  {
   "cell_type": "markdown",
   "metadata": {},
   "source": [
    "# <center>Exploring the Possibility of Creating New Recipes Using Machine Learning</center>"
   ]
  },
  {
   "cell_type": "markdown",
   "metadata": {},
   "source": [
    "Cooking recipes are about the combination of flavors. The flavors include the natural flavors of food materials themselves and the flavors of seasoners. Some combinations are delicious, while others can be horrible. In 2016, Kiddon et. al., created coherent recipes given all ingredients and a recipe name utilizing a neural checklist model [1]. In 2019, Bodhisattwa, et. al., built a machine learning model to generate personalized recipes from incomplete input specifications and user histories based on the data collected from food.com [2]. In this work, we are more focusing on utilizing machine learning to summarize the good combination of food natural flavors and seasonings, and to explore the possibility of creating new recipes which are potentially able to get great reviews. We are also going to actually cook the predicted new recipes to verify whether they are delicious. "
   ]
  },
  {
   "cell_type": "markdown",
   "metadata": {},
   "source": [
    "### Data Collection, Wrangling, and Exploratory Analysis"
   ]
  },
  {
   "cell_type": "markdown",
   "metadata": {},
   "source": [
    "We obtained one set of recipe and review data from kaggle.com [3]. The data set includes a recipe table and a review table, and two of them are linked through RecipeID.  "
   ]
  },
  {
   "cell_type": "code",
   "execution_count": 1,
   "metadata": {},
   "outputs": [],
   "source": [
    "######################################\n",
    "# Importing all necessary packages\n",
    "######################################\n",
    "import pandas as pd\n",
    "import numpy as np\n",
    "import matplotlib.pyplot as plt\n",
    "import matplotlib as mpl\n",
    "import seaborn as sns\n",
    "import tqdm\n",
    "import sklearn\n",
    "import pickle\n",
    "from collections import defaultdict\n",
    "from pytimeparse.timeparse import timeparse\n",
    "from datetime import datetime, timedelta\n",
    "from mpl_toolkits.mplot3d import Axes3D\n",
    "mpl.rcParams['figure.dpi']=120\n",
    "plt.rcParams[\"font.family\"] = \"arial\""
   ]
  },
  {
   "cell_type": "markdown",
   "metadata": {},
   "source": [
    "We firstly loaded the recipe data, and converting the data set to a pandas DataFrame. The data set is not clean, therefore a direct call of pd.read_csv() will raise errors. We manually parsed the data set line by line.\n",
    "\n",
    "The data set is delimited by semicolons. According to the header, there should be 10 columns in each observation. However, some observations has a number of items larger than 10. We guessed that users might put some extra semicolons somewhere. We are going to figure it out. "
   ]
  },
  {
   "cell_type": "code",
   "execution_count": 272,
   "metadata": {},
   "outputs": [
    {
     "data": {
      "text/plain": [
       "0     Recipe Name\n",
       "1        RecipeID\n",
       "2    Review Count\n",
       "3    Recipe Photo\n",
       "4          Author\n",
       "5    Prepare Time\n",
       "6       Cook Time\n",
       "7      Total Time\n",
       "8     Ingredients\n",
       "9      Directions\n",
       "dtype: object"
      ]
     },
     "execution_count": 272,
     "metadata": {},
     "output_type": "execute_result"
    }
   ],
   "source": [
    "##########################################################\n",
    "# Display the column names of the recipes.csv from header\n",
    "##########################################################\n",
    "with open('..\\\\data\\\\raw\\\\recipes.csv', 'r') as file:\n",
    "    recipe_column_name=pd.Series([string.strip() for string in file.readline().split(';')])\n",
    "recipe_column_name"
   ]
  },
  {
   "cell_type": "code",
   "execution_count": 273,
   "metadata": {
    "scrolled": false
   },
   "outputs": [
    {
     "name": "stdout",
     "output_type": "stream",
     "text": [
      "Numbers of items in each line after splited by semicolon:\n"
     ]
    },
    {
     "data": {
      "text/plain": [
       "{1, 2, 3, 10, 11, 12, 13, 14, 15, 16, 17, 18, 19, 20, 22, 23}"
      ]
     },
     "execution_count": 273,
     "metadata": {},
     "output_type": "execute_result"
    }
   ],
   "source": [
    "########################################\n",
    "# Loading recipes.csv\n",
    "# Reading all the lines in\n",
    "########################################\n",
    "lines=[] # A list of lists\n",
    "with open('..\\\\data\\\\raw\\\\recipes.csv', 'r') as file:\n",
    "    content=file.readlines()\n",
    "    for line in content:\n",
    "        lines.append([item.strip() for item in line.split(';')])\n",
    "print('Numbers of items in each line after splited by semicolon:')\n",
    "set([len(ele) for ele in lines])"
   ]
  },
  {
   "cell_type": "code",
   "execution_count": 274,
   "metadata": {},
   "outputs": [
    {
     "name": "stdout",
     "output_type": "stream",
     "text": [
      "There are 18453 recipes observed.\n"
     ]
    }
   ],
   "source": [
    "##############################################################################################################\n",
    "# For each observation, there are four conditions:\n",
    "# length=1: an empty line\n",
    "# 1<length<10 or the second element is not a number: this content belongs to the previous line\n",
    "# length=10 and the second element is a number (RecipeID): a perfect observation\n",
    "# length>10 and the second element is a number (RecipeID): some users wrote extra semicolons somewhere and \n",
    "# wrongly separated one column into several items\n",
    "##############################################################################################################\n",
    "# Firstly, handle the condition of length=1 and 1<length<10\n",
    "##############################################################################################################\n",
    "cleaned_lines=[]\n",
    "for line in lines:\n",
    "    if len(line)>=10 and line[1].isnumeric():\n",
    "        cleaned_lines.append(line)\n",
    "    elif (len(cleaned_lines)>0 and len(line)<10 and len(line)>1) or (len(cleaned_lines)>0 and len(line)>=2 and not line[1].isnumeric()): \n",
    "        cleaned_lines[-1]=cleaned_lines[-1]+line\n",
    "    else:\n",
    "        pass\n",
    "##############################################################################################################\n",
    "cleaned_lines=[ele for ele in cleaned_lines if ele[0]!='Recipe Name']\n",
    "print('There are {} recipes observed.'.format(len(cleaned_lines)))"
   ]
  },
  {
   "cell_type": "code",
   "execution_count": 275,
   "metadata": {},
   "outputs": [
    {
     "name": "stderr",
     "output_type": "stream",
     "text": [
      "100%|██████████████████████████████████████████████████████████████████████████| 18453/18453 [00:02<00:00, 8445.30it/s]\n"
     ]
    },
    {
     "data": {
      "text/plain": [
       "18453"
      ]
     },
     "execution_count": 275,
     "metadata": {},
     "output_type": "execute_result"
    }
   ],
   "source": [
    "#####################################################\n",
    "# Secondly, handle the condition of length>=10\n",
    "#####################################################\n",
    "recipes_dict=defaultdict(list)\n",
    "for line in tqdm.tqdm(cleaned_lines):\n",
    "    if len(line)>=10:\n",
    "        assert line[1].isnumeric()\n",
    "        # To check whether there are semicolons in Recipe Name, and the answer is no.\n",
    "        assert line[5].replace('d', '').replace('h', '').replace('m', '').replace(' ', '').isnumeric() or line[5]=='X'\n",
    "        assert line[6].replace('d', '').replace('h', '').replace('m', '').replace(' ', '').isnumeric() or line[6]=='X'\n",
    "        assert line[7].replace('d', '').replace('h', '').replace('m', '').replace(' ', '').isnumeric() or line[7]=='X'\n",
    "        assert not line[8].replace('d', '').replace('h', '').replace('m', '').replace(' ', '').isnumeric()\n",
    "        # To check whether there are semicolons in Author column and three time columns, and the answer is no.\n",
    "        # Therefore, the extra semicolons should be in either Ingredients column or Directions column\n",
    "        # Count how many words in each segment in Ingredients column or Directions column\n",
    "        word_count=[]\n",
    "        for i in range(8, len(line)):\n",
    "            word_count.append(len(line[i].split(' ')))\n",
    "        # Here we made a simple assumption that the Diretion column should have most number of words \n",
    "        # disregarding the first ingredient column.\n",
    "        # We care more about ingredients than directions, so it's OK to get more words from directions\n",
    "        # to ingredients\n",
    "        directions_index=np.argmax(word_count[1:])+9\n",
    "        ingredients=''.join(line[8:directions_index])\n",
    "        directions=''.join(line[directions_index:])\n",
    "        new_line=line[:8]+[ingredients]+[directions]\n",
    "        line=new_line\n",
    "        assert len(line)==10\n",
    "        # Now the column number of each observation is right\n",
    "        for index, column_name in recipe_column_name.items():\n",
    "            recipes_dict[column_name].append(line[index])\n",
    "len(recipes_dict['Recipe Name'])"
   ]
  },
  {
   "cell_type": "code",
   "execution_count": 507,
   "metadata": {
    "scrolled": true
   },
   "outputs": [
    {
     "name": "stdout",
     "output_type": "stream",
     "text": [
      "447 lines of duplicated recipes were dropped.\n",
      "<class 'pandas.core.frame.DataFrame'>\n",
      "RangeIndex: 18006 entries, 0 to 18005\n",
      "Data columns (total 10 columns):\n",
      " #   Column        Non-Null Count  Dtype \n",
      "---  ------        --------------  ----- \n",
      " 0   Recipe Name   18006 non-null  object\n",
      " 1   RecipeID      18006 non-null  object\n",
      " 2   Review Count  18006 non-null  object\n",
      " 3   Recipe Photo  18006 non-null  object\n",
      " 4   Author        18006 non-null  object\n",
      " 5   Prepare Time  18006 non-null  object\n",
      " 6   Cook Time     18006 non-null  object\n",
      " 7   Total Time    18006 non-null  object\n",
      " 8   Ingredients   18006 non-null  object\n",
      " 9   Directions    18006 non-null  object\n",
      "dtypes: object(10)\n",
      "memory usage: 1.4+ MB\n"
     ]
    }
   ],
   "source": [
    "####################################################################\n",
    "# Generating recipe data frame\n",
    "# It seems that there are duplicated records. If recipe names and authers\n",
    "# are the same, we consider they are duplicated.\n",
    "####################################################################\n",
    "recipes=pd.DataFrame(recipes_dict).drop_duplicates(subset=['Recipe Name', 'Author'], keep='first', ignore_index=True)\n",
    "print('{} lines of duplicated recipes were dropped.'.format(len(recipes_dict['Recipe Name'])-len(recipes.index)))\n",
    "recipes.info()"
   ]
  },
  {
   "cell_type": "code",
   "execution_count": 508,
   "metadata": {},
   "outputs": [
    {
     "name": "stdout",
     "output_type": "stream",
     "text": [
      "<class 'pandas.core.frame.DataFrame'>\n",
      "Int64Index: 17175 entries, 0 to 18005\n",
      "Data columns (total 10 columns):\n",
      " #   Column        Non-Null Count  Dtype          \n",
      "---  ------        --------------  -----          \n",
      " 0   Recipe Name   17175 non-null  object         \n",
      " 1   RecipeID      17175 non-null  int64          \n",
      " 2   Review Count  17175 non-null  int64          \n",
      " 3   Recipe Photo  17175 non-null  object         \n",
      " 4   Author        17175 non-null  object         \n",
      " 5   Prepare Time  11843 non-null  timedelta64[ns]\n",
      " 6   Cook Time     9889 non-null   timedelta64[ns]\n",
      " 7   Total Time    11937 non-null  timedelta64[ns]\n",
      " 8   Ingredients   17175 non-null  object         \n",
      " 9   Directions    17175 non-null  object         \n",
      "dtypes: int64(2), object(5), timedelta64[ns](3)\n",
      "memory usage: 1.4+ MB\n"
     ]
    }
   ],
   "source": [
    "################################################################################################################\n",
    "# Regarding recipes:\n",
    "# 1. Drop recipes without ingredient information\n",
    "# 2. Convert RecipeID and review count to ingeters\n",
    "# 3. Fill missing values with NaN for columns: Recipe Photo, Author, Ingredients, Directions\n",
    "# 4. Convert Prepare Time, Cook Time, and Total Time to timedelta object, and to fill missing values with NaT\n",
    "################################################################################################################\n",
    "recipes_updated=recipes.drop(recipes[recipes['Ingredients']==''].index)\n",
    "recipes_updated['RecipeID']=recipes['RecipeID'].apply(lambda x: int(x))\n",
    "recipes_updated['Review Count']=recipes['Review Count'].apply(lambda x: int(x.replace('k', '000')))\n",
    "recipes_updated['Recipe Photo']=recipes['Recipe Photo'].apply(lambda x: x if x!='X' else np.NaN)\n",
    "recipes_updated['Author']=recipes['Author'].apply(lambda x: x if x!='X' else np.NaN)\n",
    "recipes_updated['Prepare Time']=recipes['Prepare Time'].apply(lambda x: timedelta(seconds=timeparse(x.replace(' ', ''))) if x!='X' else pd.NaT)\n",
    "recipes_updated['Cook Time']=recipes['Cook Time'].apply(lambda x: timedelta(seconds=timeparse(x.replace(' ', ''))) if x!='X' else pd.NaT)\n",
    "recipes_updated['Total Time']=recipes['Total Time'].apply(lambda x: timedelta(seconds=timeparse(x.replace(' ', ''))) if x!='X' else pd.NaT)\n",
    "recipes_updated.info()"
   ]
  },
  {
   "cell_type": "markdown",
   "metadata": {},
   "source": [
    "The second step is loading the review data, and converting the data set to a pandas DataFrame. The data set is also not clean, therefore a direct call of pd.read_csv() will raise errors either. We manually parsed the data set line by line and did the same operation as for recipes."
   ]
  },
  {
   "cell_type": "code",
   "execution_count": 509,
   "metadata": {},
   "outputs": [
    {
     "data": {
      "text/plain": [
       "0     RecipeID\n",
       "1    profileID\n",
       "2         Rate\n",
       "3      Comment\n",
       "dtype: object"
      ]
     },
     "execution_count": 509,
     "metadata": {},
     "output_type": "execute_result"
    }
   ],
   "source": [
    "##########################################################\n",
    "# Display the column names of the reviews.csv from header\n",
    "##########################################################\n",
    "with open('..\\\\data\\\\raw\\\\reviews.csv', 'r') as file:\n",
    "    review_column_name=pd.Series([string.strip() for string in file.readline().split(';')])\n",
    "review_column_name"
   ]
  },
  {
   "cell_type": "code",
   "execution_count": 510,
   "metadata": {},
   "outputs": [
    {
     "name": "stderr",
     "output_type": "stream",
     "text": [
      "100%|████████████████████████████████████████████████████████████████████| 3270508/3270508 [00:18<00:00, 180302.07it/s]\n"
     ]
    },
    {
     "name": "stdout",
     "output_type": "stream",
     "text": [
      "Numbers of items in each line after splited by semicolon:\n"
     ]
    },
    {
     "data": {
      "text/plain": [
       "{1, 2, 3, 4, 5, 6, 7, 8, 9, 10, 11}"
      ]
     },
     "execution_count": 510,
     "metadata": {},
     "output_type": "execute_result"
    }
   ],
   "source": [
    "########################################\n",
    "# Loading reviews.csv\n",
    "# Reading all the lines in\n",
    "########################################\n",
    "lines_review=[] # A list of lists\n",
    "with open('..\\\\data\\\\raw\\\\reviews.csv', 'r') as file:\n",
    "    content=file.readlines()\n",
    "    for line in tqdm.tqdm(content):\n",
    "        lines_review.append([item.strip() for item in line.split(';')])\n",
    "print('Numbers of items in each line after splited by semicolon:')\n",
    "set([len(ele) for ele in lines_review])"
   ]
  },
  {
   "cell_type": "code",
   "execution_count": 511,
   "metadata": {},
   "outputs": [
    {
     "name": "stderr",
     "output_type": "stream",
     "text": [
      "100%|████████████████████████████████████████████████████████████████████| 3270508/3270508 [00:09<00:00, 356497.43it/s]\n"
     ]
    },
    {
     "name": "stdout",
     "output_type": "stream",
     "text": [
      "There are 1578721 reviews observed.\n"
     ]
    }
   ],
   "source": [
    "##############################################################################################################\n",
    "# For each observation, there are four conditions:\n",
    "# length=1: an empty line\n",
    "# 1<length<4 or the first item is not a number (RecipeID): this content belongs to the previous line\n",
    "# length=4 and the first item is a number (RecipeID): a perfect observation\n",
    "# length>4 and the first item is a number (RecipeID): some users wrote extra semicolons somewhere and wrongly \n",
    "# separated one column into several items\n",
    "##############################################################################################################\n",
    "# Firstly, handle the condition of length=1 and 1<length<4\n",
    "##############################################################################################################\n",
    "cleaned_lines_review=[]\n",
    "for line in tqdm.tqdm(lines_review):\n",
    "    if len(line)>=4 and line[0].isnumeric():\n",
    "        cleaned_lines_review.append(line)\n",
    "    elif (len(cleaned_lines_review)>0 and len(line)<4 and len(line)>1) or (len(cleaned_lines_review)>0 and len(line)>=1 and not line[0].isnumeric()):\n",
    "        cleaned_lines_review[-1]=cleaned_lines_review[-1]+line\n",
    "    else:\n",
    "        pass\n",
    "##############################################################################################################\n",
    "cleaned_lines_review=[ele for ele in cleaned_lines_review if ele[0]!='RecipeID']\n",
    "print('There are {} reviews observed.'.format(len(cleaned_lines_review)))"
   ]
  },
  {
   "cell_type": "code",
   "execution_count": 512,
   "metadata": {},
   "outputs": [
    {
     "name": "stderr",
     "output_type": "stream",
     "text": [
      "100%|█████████████████████████████████████████████████████████████████████| 1578721/1578721 [00:47<00:00, 33042.17it/s]\n"
     ]
    },
    {
     "data": {
      "text/plain": [
       "1578721"
      ]
     },
     "execution_count": 512,
     "metadata": {},
     "output_type": "execute_result"
    }
   ],
   "source": [
    "#####################################################\n",
    "# Secondly, handle the condition of length>=4\n",
    "#####################################################\n",
    "reviews_dict=defaultdict(list)\n",
    "for line in tqdm.tqdm(cleaned_lines_review):\n",
    "    if len(line)>=4:\n",
    "        assert line[0].isnumeric()\n",
    "        # To check whether all the RecipeID are numbers, and the answer is YES.\n",
    "        assert line[1].isnumeric()\n",
    "        # To check whether all the PrefileID are numbers, and the answer is YES.\n",
    "        assert line[2].isnumeric()\n",
    "        # To check whether all the rates are numbers, and the answer is YES.\n",
    "        # Therefore, there is only one place where users wrote extra semicolons in: comment section\n",
    "        new_line=line[:3]+[''.join(line[3:])]\n",
    "        line=new_line\n",
    "        assert len(line)==4\n",
    "        # Now the column number of each observation is right\n",
    "        for index, column_name in review_column_name.items():\n",
    "            reviews_dict[column_name].append(line[index])\n",
    "len(reviews_dict['RecipeID'])"
   ]
  },
  {
   "cell_type": "code",
   "execution_count": 513,
   "metadata": {
    "scrolled": false
   },
   "outputs": [
    {
     "name": "stdout",
     "output_type": "stream",
     "text": [
      "7894 lines of duplicated reviews were dropped.\n",
      "1570827 lines left.\n",
      "<class 'pandas.core.frame.DataFrame'>\n",
      "RangeIndex: 1570827 entries, 0 to 1570826\n",
      "Data columns (total 4 columns):\n",
      " #   Column     Non-Null Count    Dtype \n",
      "---  ------     --------------    ----- \n",
      " 0   RecipeID   1570827 non-null  object\n",
      " 1   profileID  1570827 non-null  object\n",
      " 2   Rate       1570827 non-null  object\n",
      " 3   Comment    1570827 non-null  object\n",
      "dtypes: object(4)\n",
      "memory usage: 47.9+ MB\n"
     ]
    }
   ],
   "source": [
    "####################################################################\n",
    "# Generating reviews data frame\n",
    "# It seems that there are duplicated records. If all the columns\n",
    "# are the same, we consider they are duplicated.\n",
    "####################################################################\n",
    "reviews=pd.DataFrame(reviews_dict).drop_duplicates(keep='first', ignore_index=True)\n",
    "print('{} lines of duplicated reviews were dropped.'.format(len(reviews_dict['RecipeID'])-len(reviews.index)))\n",
    "print('{} lines left.'.format(len(reviews.index)))\n",
    "reviews.info()"
   ]
  },
  {
   "cell_type": "code",
   "execution_count": 523,
   "metadata": {},
   "outputs": [
    {
     "name": "stdout",
     "output_type": "stream",
     "text": [
      "<class 'pandas.core.frame.DataFrame'>\n",
      "Int64Index: 1570827 entries, 0 to 1570826\n",
      "Data columns (total 4 columns):\n",
      " #   Column     Non-Null Count    Dtype \n",
      "---  ------     --------------    ----- \n",
      " 0   RecipeID   1570827 non-null  int64 \n",
      " 1   profileID  1570827 non-null  int64 \n",
      " 2   Rate       1570827 non-null  int64 \n",
      " 3   Comment    1570642 non-null  object\n",
      "dtypes: int64(3), object(1)\n",
      "memory usage: 59.9+ MB\n"
     ]
    }
   ],
   "source": [
    "################################################################################################################\n",
    "# Regarding reviews:\n",
    "# 1. Drop reviews without recipeID\n",
    "# 2. Convert RecipeID, review count, and rate to ingeters\n",
    "# 3. Fill missing values with NaN for Comments\n",
    "################################################################################################################\n",
    "reviews_updated=reviews[~reviews['RecipeID'].isna()]\n",
    "for name in reviews.columns:\n",
    "    reviews_updated[name]=reviews[name].apply(lambda x: int(x) if type(x)==str and x.isnumeric() else x)\n",
    "reviews_updated.loc[reviews['Comment']=='', 'Comment']=np.NaN\n",
    "reviews_updated.info()"
   ]
  },
  {
   "cell_type": "code",
   "execution_count": 524,
   "metadata": {},
   "outputs": [
    {
     "name": "stdout",
     "output_type": "stream",
     "text": [
      "There are 9037 recipes in recipes data set, and 17175 recipes in reviews data set.\n",
      "And there are 8908 recipes in both data sets.\n"
     ]
    }
   ],
   "source": [
    "####################################################################################\n",
    "# Now let's compare the two tables: how many common recipes do they have?\n",
    "####################################################################################\n",
    "print('There are {} recipes in recipes data set, and {} recipes in reviews data set.'.format(\n",
    "    len(reviews_updated.groupby('RecipeID').count().index),\n",
    "    len(recipes_updated.groupby('RecipeID').count().index)\n",
    "))\n",
    "print('And there are {} recipes in both data sets.'.format(\n",
    "    len(set(recipes_updated['RecipeID'].values).intersection(set(reviews_updated['RecipeID'].values)))\n",
    "))"
   ]
  },
  {
   "cell_type": "code",
   "execution_count": 537,
   "metadata": {},
   "outputs": [],
   "source": [
    "###############################################################################\n",
    "# We are going to investigate these 8908 recipes\n",
    "# Subset the data sets \n",
    "###############################################################################\n",
    "common_ID=list(set(recipes_updated['RecipeID'].values).intersection(set(reviews_updated['RecipeID'].values)))\n",
    "recipes_updated_2=recipes_updated[recipes_updated['RecipeID'].isin(common_ID)]\n",
    "reviews_updated_2=reviews_updated[reviews_updated['RecipeID'].isin(common_ID)]\n",
    "assert len(recipes_updated_2['RecipeID'].index)==recipes_updated_2['RecipeID'].nunique()\n",
    "assert recipes_updated_2['RecipeID'].nunique()==reviews_updated_2['RecipeID'].nunique()\n",
    "recipes=recipes_updated_2\n",
    "reviews=reviews_updated_2"
   ]
  },
  {
   "cell_type": "markdown",
   "metadata": {},
   "source": [
    "Now we are goint to take a look at the recipe and review data through exploratory data analysis. "
   ]
  },
  {
   "cell_type": "code",
   "execution_count": 718,
   "metadata": {},
   "outputs": [
    {
     "data": {
      "image/png": "[encoded data removed]",
      "text/plain": [
       "<Figure size 720x480 with 1 Axes>"
      ]
     },
     "metadata": {
      "needs_background": "light"
     },
     "output_type": "display_data"
    }
   ],
   "source": [
    "####################################################################################\n",
    "# The rate is from 1 to 5. How many reviews and recipes fall in each category?\n",
    "####################################################################################\n",
    "data=pd.DataFrame({'Rate':[5, 4, 3, 2, 1],\n",
    "                  'Number of Reviews': list(reviews.groupby(by='Rate')['RecipeID'].count().sort_index(ascending=False)),\n",
    "                  'Number of Recipes': list(reviews.groupby(by='Rate')['RecipeID'].nunique().sort_index(ascending=False))\n",
    "                  })\n",
    "\n",
    "fig, ax=plt.subplots(1, 1)\n",
    "sns.barplot(x='Rate', y='Value', hue='Variable', data=data.melt(id_vars='Rate').rename(columns=str.title), ax=ax)\n",
    "ax.set_yscale('log')\n",
    "ax.set_xlim(4.5, -0.5)\n",
    "#ax.get_xaxis().set_minor_locator(mpl.ticker.AutoMinorLocator())\n",
    "#ax.get_yaxis().set_minor_locator(mpl.ticker.AutoMinorLocator())\n",
    "ax.set_xlabel('Rate')\n",
    "ax.set_ylabel('Number (Logarithmic Scale)')\n",
    "plt.legend(frameon=False)\n",
    "plt.show()"
   ]
  },
  {
   "cell_type": "markdown",
   "metadata": {},
   "source": [
    "It's clear that the qualities of recipes are quite evenly distributed. However, better recipes are more popular and attract more reviewers.    "
   ]
  },
  {
   "cell_type": "code",
   "execution_count": 719,
   "metadata": {},
   "outputs": [],
   "source": [
    "############################################################################################\n",
    "# What are the ranks of recipes look like?\n",
    "############################################################################################\n",
    "# Considering using the table below to calculate a score for each recipe\n",
    "# =========================================================\n",
    "# Star     |      5         4       3       2        1\n",
    "# ---------------------------------------------------------\n",
    "# Score    |    100        75      50      25        0\n",
    "# ---------------------------------------------------------\n",
    "# Meaning  | Very Good    Good    Fair   Poor   Very Poor\n",
    "# =========================================================\n",
    "############################################################################################\n",
    "recipe_ID=list(reviews.groupby(by=['RecipeID'])['profileID'].count().index)\n",
    "recipe_name=[]\n",
    "for id in recipe_ID:\n",
    "    recipe_name.append(recipes.loc[recipes['RecipeID']==id, 'Recipe Name'].values[0])\n",
    "assert len(recipe_ID)==len(recipe_name)"
   ]
  },
  {
   "cell_type": "code",
   "execution_count": 720,
   "metadata": {},
   "outputs": [
    {
     "name": "stderr",
     "output_type": "stream",
     "text": [
      "100%|█████████████████████████████████████████████████████████████████████████████| 8908/8908 [01:08<00:00, 129.15it/s]\n"
     ]
    }
   ],
   "source": [
    "#######################################################################################################################\n",
    "# Calculate score for each recipe\n",
    "# Score=100*(number of 5 star)+75*(number of 4 star)+50*(number of 3 star)+25*(number of 2 star)+0*(number of 1 star)\n",
    "# For each recipe, calculate how many 5 star, 4 star, 3 star, 2 star, and 1 star it got\n",
    "#######################################################################################################################\n",
    "score=[]\n",
    "star5=[]\n",
    "star4=[]\n",
    "star3=[]\n",
    "star2=[]\n",
    "star1=[]\n",
    "ratings=reviews.groupby(['RecipeID', 'Rate'])['Rate'].count()\n",
    "for id in tqdm.tqdm(recipes['RecipeID']):\n",
    "    dataframe=ratings.loc[pd.IndexSlice[id, 1:5], :].rename('Count')\n",
    "    inner_index=dataframe.index.get_level_values(level=1)\n",
    "    inner_index_weight=pd.Series(inner_index).replace({5:100, 4:75, 3:50, 2:25, 1:0})\n",
    "    this_score=0\n",
    "    this_star=[0,0,0,0,0] # star 5 to star 1\n",
    "    for index, weight in zip(inner_index, inner_index_weight):\n",
    "        count_value=dataframe[dataframe.index.get_level_values(level=1)==index].values[0]\n",
    "        this_score=this_score+weight*count_value\n",
    "        if index==5:\n",
    "            this_star[0]=count_value\n",
    "        elif index==4:\n",
    "            this_star[1]=count_value\n",
    "        elif index==3:\n",
    "            this_star[2]=count_value\n",
    "        elif index==2:\n",
    "            this_star[3]=count_value\n",
    "        else:\n",
    "            this_star[4]=count_value\n",
    "    score.append(this_score)\n",
    "    star5.append(this_star[0])\n",
    "    star4.append(this_star[1])\n",
    "    star3.append(this_star[2])\n",
    "    star2.append(this_star[3])\n",
    "    star1.append(this_star[4])\n",
    "assert len(score)==len(recipe_ID)==len(recipe_name)==len(star5)==len(star4)==len(star3)==len(star2)==len(star1)"
   ]
  },
  {
   "cell_type": "code",
   "execution_count": 721,
   "metadata": {},
   "outputs": [
    {
     "data": {
      "text/html": [
       "<div>\n",
       "<style scoped>\n",
       "    .dataframe tbody tr th:only-of-type {\n",
       "        vertical-align: middle;\n",
       "    }\n",
       "\n",
       "    .dataframe tbody tr th {\n",
       "        vertical-align: top;\n",
       "    }\n",
       "\n",
       "    .dataframe thead th {\n",
       "        text-align: right;\n",
       "    }\n",
       "</style>\n",
       "<table border=\"1\" class=\"dataframe\">\n",
       "  <thead>\n",
       "    <tr style=\"text-align: right;\">\n",
       "      <th></th>\n",
       "      <th>Recipe Name</th>\n",
       "      <th>Score</th>\n",
       "      <th>Star 5</th>\n",
       "      <th>Star 4</th>\n",
       "      <th>Star 3</th>\n",
       "      <th>Star 2</th>\n",
       "      <th>Star 1</th>\n",
       "    </tr>\n",
       "    <tr>\n",
       "      <th>RecipeID</th>\n",
       "      <th></th>\n",
       "      <th></th>\n",
       "      <th></th>\n",
       "      <th></th>\n",
       "      <th></th>\n",
       "      <th></th>\n",
       "      <th></th>\n",
       "    </tr>\n",
       "  </thead>\n",
       "  <tbody>\n",
       "    <tr>\n",
       "      <th>13838</th>\n",
       "      <td>Sugar Coated Pecans Recipe</td>\n",
       "      <td>97000</td>\n",
       "      <td>933</td>\n",
       "      <td>41</td>\n",
       "      <td>11</td>\n",
       "      <td>3</td>\n",
       "      <td>2</td>\n",
       "    </tr>\n",
       "    <tr>\n",
       "      <th>24952</th>\n",
       "      <td>Caramel Popcorn Recipe</td>\n",
       "      <td>95725</td>\n",
       "      <td>905</td>\n",
       "      <td>61</td>\n",
       "      <td>8</td>\n",
       "      <td>10</td>\n",
       "      <td>6</td>\n",
       "    </tr>\n",
       "    <tr>\n",
       "      <th>13436</th>\n",
       "      <td>Italian Sausage Soup with Tortellini Recipe</td>\n",
       "      <td>95625</td>\n",
       "      <td>890</td>\n",
       "      <td>76</td>\n",
       "      <td>16</td>\n",
       "      <td>5</td>\n",
       "      <td>3</td>\n",
       "    </tr>\n",
       "    <tr>\n",
       "      <th>20669</th>\n",
       "      <td>Double Tomato Bruschetta Recipe</td>\n",
       "      <td>95250</td>\n",
       "      <td>878</td>\n",
       "      <td>89</td>\n",
       "      <td>12</td>\n",
       "      <td>7</td>\n",
       "      <td>4</td>\n",
       "    </tr>\n",
       "    <tr>\n",
       "      <th>19163</th>\n",
       "      <td>Luscious Slush Punch Recipe</td>\n",
       "      <td>95250</td>\n",
       "      <td>883</td>\n",
       "      <td>82</td>\n",
       "      <td>14</td>\n",
       "      <td>4</td>\n",
       "      <td>7</td>\n",
       "    </tr>\n",
       "    <tr>\n",
       "      <th>17690</th>\n",
       "      <td>Sweet Dinner Rolls Recipe</td>\n",
       "      <td>95075</td>\n",
       "      <td>883</td>\n",
       "      <td>75</td>\n",
       "      <td>20</td>\n",
       "      <td>6</td>\n",
       "      <td>6</td>\n",
       "    </tr>\n",
       "    <tr>\n",
       "      <th>19484</th>\n",
       "      <td>Grilled Marinated Shrimp Recipe</td>\n",
       "      <td>94950</td>\n",
       "      <td>874</td>\n",
       "      <td>84</td>\n",
       "      <td>19</td>\n",
       "      <td>12</td>\n",
       "      <td>1</td>\n",
       "    </tr>\n",
       "    <tr>\n",
       "      <th>23822</th>\n",
       "      <td>Pumpkin Gingerbread Recipe</td>\n",
       "      <td>94950</td>\n",
       "      <td>861</td>\n",
       "      <td>102</td>\n",
       "      <td>23</td>\n",
       "      <td>2</td>\n",
       "      <td>2</td>\n",
       "    </tr>\n",
       "    <tr>\n",
       "      <th>20156</th>\n",
       "      <td>Clone of a Cinnabon Recipe</td>\n",
       "      <td>94950</td>\n",
       "      <td>886</td>\n",
       "      <td>69</td>\n",
       "      <td>21</td>\n",
       "      <td>5</td>\n",
       "      <td>9</td>\n",
       "    </tr>\n",
       "    <tr>\n",
       "      <th>12942</th>\n",
       "      <td>Italian Sausage Soup Recipe</td>\n",
       "      <td>94925</td>\n",
       "      <td>861</td>\n",
       "      <td>102</td>\n",
       "      <td>22</td>\n",
       "      <td>3</td>\n",
       "      <td>2</td>\n",
       "    </tr>\n",
       "    <tr>\n",
       "      <th>25502</th>\n",
       "      <td>Southwestern Egg Rolls Recipe</td>\n",
       "      <td>94900</td>\n",
       "      <td>851</td>\n",
       "      <td>122</td>\n",
       "      <td>12</td>\n",
       "      <td>2</td>\n",
       "      <td>3</td>\n",
       "    </tr>\n",
       "    <tr>\n",
       "      <th>25642</th>\n",
       "      <td>White Chocolate Raspberry Cheesecake Recipe</td>\n",
       "      <td>94825</td>\n",
       "      <td>879</td>\n",
       "      <td>75</td>\n",
       "      <td>23</td>\n",
       "      <td>6</td>\n",
       "      <td>7</td>\n",
       "    </tr>\n",
       "    <tr>\n",
       "      <th>9454</th>\n",
       "      <td>Greek Baklava Recipe</td>\n",
       "      <td>94775</td>\n",
       "      <td>876</td>\n",
       "      <td>81</td>\n",
       "      <td>18</td>\n",
       "      <td>8</td>\n",
       "      <td>7</td>\n",
       "    </tr>\n",
       "    <tr>\n",
       "      <th>18057</th>\n",
       "      <td>Sweet Potato Casserole II Recipe</td>\n",
       "      <td>94750</td>\n",
       "      <td>861</td>\n",
       "      <td>95</td>\n",
       "      <td>29</td>\n",
       "      <td>3</td>\n",
       "      <td>2</td>\n",
       "    </tr>\n",
       "    <tr>\n",
       "      <th>20163</th>\n",
       "      <td>'Grandma Johnson''s Scones Recipe '</td>\n",
       "      <td>94725</td>\n",
       "      <td>891</td>\n",
       "      <td>60</td>\n",
       "      <td>17</td>\n",
       "      <td>11</td>\n",
       "      <td>11</td>\n",
       "    </tr>\n",
       "    <tr>\n",
       "      <th>21174</th>\n",
       "      <td>BBQ Pork for Sandwiches Recipe</td>\n",
       "      <td>94725</td>\n",
       "      <td>874</td>\n",
       "      <td>79</td>\n",
       "      <td>26</td>\n",
       "      <td>4</td>\n",
       "      <td>7</td>\n",
       "    </tr>\n",
       "    <tr>\n",
       "      <th>8669</th>\n",
       "      <td>Chicken Cordon Bleu II Recipe</td>\n",
       "      <td>94675</td>\n",
       "      <td>864</td>\n",
       "      <td>98</td>\n",
       "      <td>15</td>\n",
       "      <td>7</td>\n",
       "      <td>6</td>\n",
       "    </tr>\n",
       "    <tr>\n",
       "      <th>21412</th>\n",
       "      <td>Tiramisu II Recipe</td>\n",
       "      <td>94625</td>\n",
       "      <td>879</td>\n",
       "      <td>70</td>\n",
       "      <td>23</td>\n",
       "      <td>13</td>\n",
       "      <td>5</td>\n",
       "    </tr>\n",
       "    <tr>\n",
       "      <th>10638</th>\n",
       "      <td>Cranberry Pistachio Biscotti Recipe</td>\n",
       "      <td>94550</td>\n",
       "      <td>859</td>\n",
       "      <td>97</td>\n",
       "      <td>24</td>\n",
       "      <td>7</td>\n",
       "      <td>3</td>\n",
       "    </tr>\n",
       "    <tr>\n",
       "      <th>14469</th>\n",
       "      <td>'Jamie''s Cranberry Spinach Salad Recipe '</td>\n",
       "      <td>94500</td>\n",
       "      <td>872</td>\n",
       "      <td>77</td>\n",
       "      <td>26</td>\n",
       "      <td>9</td>\n",
       "      <td>6</td>\n",
       "    </tr>\n",
       "  </tbody>\n",
       "</table>\n",
       "</div>"
      ],
      "text/plain": [
       "                                          Recipe Name  Score  Star 5  Star 4  \\\n",
       "RecipeID                                                                       \n",
       "13838                      Sugar Coated Pecans Recipe  97000     933      41   \n",
       "24952                          Caramel Popcorn Recipe  95725     905      61   \n",
       "13436     Italian Sausage Soup with Tortellini Recipe  95625     890      76   \n",
       "20669                 Double Tomato Bruschetta Recipe  95250     878      89   \n",
       "19163                     Luscious Slush Punch Recipe  95250     883      82   \n",
       "17690                       Sweet Dinner Rolls Recipe  95075     883      75   \n",
       "19484                 Grilled Marinated Shrimp Recipe  94950     874      84   \n",
       "23822                      Pumpkin Gingerbread Recipe  94950     861     102   \n",
       "20156                      Clone of a Cinnabon Recipe  94950     886      69   \n",
       "12942                     Italian Sausage Soup Recipe  94925     861     102   \n",
       "25502                   Southwestern Egg Rolls Recipe  94900     851     122   \n",
       "25642     White Chocolate Raspberry Cheesecake Recipe  94825     879      75   \n",
       "9454                             Greek Baklava Recipe  94775     876      81   \n",
       "18057                Sweet Potato Casserole II Recipe  94750     861      95   \n",
       "20163             'Grandma Johnson''s Scones Recipe '  94725     891      60   \n",
       "21174                  BBQ Pork for Sandwiches Recipe  94725     874      79   \n",
       "8669                    Chicken Cordon Bleu II Recipe  94675     864      98   \n",
       "21412                              Tiramisu II Recipe  94625     879      70   \n",
       "10638             Cranberry Pistachio Biscotti Recipe  94550     859      97   \n",
       "14469      'Jamie''s Cranberry Spinach Salad Recipe '  94500     872      77   \n",
       "\n",
       "          Star 3  Star 2  Star 1  \n",
       "RecipeID                          \n",
       "13838         11       3       2  \n",
       "24952          8      10       6  \n",
       "13436         16       5       3  \n",
       "20669         12       7       4  \n",
       "19163         14       4       7  \n",
       "17690         20       6       6  \n",
       "19484         19      12       1  \n",
       "23822         23       2       2  \n",
       "20156         21       5       9  \n",
       "12942         22       3       2  \n",
       "25502         12       2       3  \n",
       "25642         23       6       7  \n",
       "9454          18       8       7  \n",
       "18057         29       3       2  \n",
       "20163         17      11      11  \n",
       "21174         26       4       7  \n",
       "8669          15       7       6  \n",
       "21412         23      13       5  \n",
       "10638         24       7       3  \n",
       "14469         26       9       6  "
      ]
     },
     "execution_count": 721,
     "metadata": {},
     "output_type": "execute_result"
    }
   ],
   "source": [
    "############################################################################################\n",
    "# Build the recipe score data frame\n",
    "############################################################################################\n",
    "recipe_score_data=pd.DataFrame({\n",
    "    'Recipe Name': recipe_name,\n",
    "    'Score': score,\n",
    "    'Star 5': star5,\n",
    "    'Star 4': star4,\n",
    "    'Star 3': star3,\n",
    "    'Star 2': star2,\n",
    "    'Star 1': star1\n",
    "}, index=recipe_ID)\n",
    "recipe_score_data.index.name='RecipeID'\n",
    "recipe_score_data.sort_values(by='Score', ascending=False).head(20)"
   ]
  },
  {
   "cell_type": "code",
   "execution_count": 722,
   "metadata": {},
   "outputs": [
    {
     "data": {
      "image/png": "[encoded data removed]",
      "text/plain": [
       "<Figure size 720x480 with 1 Axes>"
      ]
     },
     "metadata": {
      "needs_background": "light"
     },
     "output_type": "display_data"
    }
   ],
   "source": [
    "############################################################################################\n",
    "# Plot 3-D bar\n",
    "############################################################################################\n",
    "data=recipe_score_data.sort_values(by='Score', ascending=False)[:]\n",
    "#==============================================================\n",
    "fig=plt.figure()\n",
    "ax=Axes3D(fig)\n",
    "lx=5          \n",
    "ly=len(data.index)\n",
    "xpos=np.arange(0,lx,1)    \n",
    "ypos=data['Score']\n",
    "xpos, ypos=np.meshgrid(xpos-0.2, ypos)\n",
    "xpos=xpos.flatten()   \n",
    "ypos=ypos.flatten()\n",
    "zpos=np.zeros(lx*ly)\n",
    "\n",
    "dx=0.5*np.ones_like(zpos)\n",
    "dy=dx.copy()\n",
    "dz=data[['Star 5', 'Star 4', 'Star 3', 'Star 2', 'Star 1']].values.flatten()\n",
    "cs=[(1, 0.3, 0.2), (0.27,0.54,1), (1, 0.7, 0.09), (0.5, 1, 0.6), (0.3, 0.7, 0.2)]*ly\n",
    "ax.bar3d(xpos,ypos,zpos, dx, dy, dz, color=cs)\n",
    "ax.set_xlabel('Rate', rotation=(-17))\n",
    "ax.set_ylabel('Recipe Score')\n",
    "ax.set_zlabel('Number of Reviews')\n",
    "ax.set_xticks([i for i in range(5)])\n",
    "ax.set_xticklabels(rotation=(-17), fontsize=8, va='bottom', ha='center', \n",
    "                   labels=['5 Star', '4 Star', '3 Star', '2 Star', '1 Star'])\n",
    "ax.set_yticks([i+2000 for i in np.linspace(data.iloc[0, 1], data.iloc[-1, 1], num=5, endpoint=True)])\n",
    "y_labels=['  {:.0f}'.format(x) for x in np.linspace(data.iloc[0, 1], data.iloc[-1, 1], num=5, endpoint=True)] \n",
    "ax.set_yticklabels(rotation=(-21), fontsize=8, va='bottom', ha='center', labels=y_labels)\n",
    "ax.set_zticks([x for x in np.linspace(0, 800, num=5, endpoint=True)])\n",
    "ax.set_zticklabels(rotation=(-10), fontsize=8, va='top', ha='right', labels=[0, 200, 400, 600, 800])\n",
    "plt.show()"
   ]
  },
  {
   "cell_type": "markdown",
   "metadata": {},
   "source": [
    "It seems that 5 star and 4 star reviews have occupied the majority of the total reviews. The recipes are distributed in a wide range of recipe score (from 100 to 97000), indicating a large variation of quality and popularity level of the recipes. Also the recipes are evenly distributed in the range, and there are no obvious gaps. The recipe score is a good indicator for our study."
   ]
  },
  {
   "cell_type": "code",
   "execution_count": 723,
   "metadata": {},
   "outputs": [],
   "source": [
    "#################################################\n",
    "# Save the cleaned data\n",
    "#################################################\n",
    "with open('..\\\\data\\\\processed\\\\recipes.pkl', 'wb') as file:\n",
    "    pickle.dump(recipes, file)\n",
    "with open('..\\\\data\\\\processed\\\\reviews.pkl', 'wb') as file:\n",
    "    pickle.dump(reviews, file)\n",
    "with open('..\\\\data\\\\processed\\\\scores.pkl', 'wb') as file:\n",
    "    pickle.dump(recipe_score_data, file)"
   ]
  },
  {
   "cell_type": "markdown",
   "metadata": {},
   "source": [
    "### Pre-processing and Training"
   ]
  },
  {
   "cell_type": "markdown",
   "metadata": {},
   "source": [
    "Our interest is to find out what combination of food materials and seasoners would lead to good recipes. Therefore we need to extract the information about the food materials and seasoners from recipes, and figure out what a good or bad combinations look like. "
   ]
  },
  {
   "cell_type": "code",
   "execution_count": 2,
   "metadata": {},
   "outputs": [],
   "source": [
    "##################################################\n",
    "# Load the cleaned data\n",
    "##################################################\n",
    "with open('..\\\\data\\\\processed\\\\recipes.pkl', 'rb') as file:\n",
    "    recipes=pickle.load(file)\n",
    "with open('..\\\\data\\\\processed\\\\reviews.pkl', 'rb') as file:\n",
    "    reviews=pickle.load(file)\n",
    "with open('..\\\\data\\\\processed\\\\scores.pkl', 'rb') as file:\n",
    "    scores=pickle.load(file)"
   ]
  },
  {
   "cell_type": "code",
   "execution_count": null,
   "metadata": {},
   "outputs": [],
   "source": []
  },
  {
   "cell_type": "code",
   "execution_count": null,
   "metadata": {},
   "outputs": [],
   "source": []
  },
  {
   "cell_type": "markdown",
   "metadata": {},
   "source": []
  },
  {
   "cell_type": "markdown",
   "metadata": {},
   "source": [
    "### Modeling and Prediction"
   ]
  },
  {
   "cell_type": "markdown",
   "metadata": {},
   "source": []
  },
  {
   "cell_type": "markdown",
   "metadata": {},
   "source": []
  },
  {
   "cell_type": "code",
   "execution_count": null,
   "metadata": {},
   "outputs": [],
   "source": []
  },
  {
   "cell_type": "markdown",
   "metadata": {},
   "source": [
    "\n"
   ]
  },
  {
   "cell_type": "code",
   "execution_count": null,
   "metadata": {},
   "outputs": [],
   "source": []
  },
  {
   "cell_type": "markdown",
   "metadata": {},
   "source": [
    "\n"
   ]
  },
  {
   "cell_type": "code",
   "execution_count": null,
   "metadata": {},
   "outputs": [],
   "source": []
  },
  {
   "cell_type": "code",
   "execution_count": null,
   "metadata": {
    "scrolled": true
   },
   "outputs": [],
   "source": []
  },
  {
   "cell_type": "code",
   "execution_count": null,
   "metadata": {},
   "outputs": [],
   "source": []
  },
  {
   "cell_type": "code",
   "execution_count": null,
   "metadata": {},
   "outputs": [],
   "source": []
  },
  {
   "cell_type": "code",
   "execution_count": null,
   "metadata": {},
   "outputs": [],
   "source": []
  },
  {
   "cell_type": "markdown",
   "metadata": {},
   "source": [
    "\n"
   ]
  },
  {
   "cell_type": "code",
   "execution_count": null,
   "metadata": {},
   "outputs": [],
   "source": []
  },
  {
   "cell_type": "code",
   "execution_count": null,
   "metadata": {},
   "outputs": [],
   "source": []
  },
  {
   "cell_type": "code",
   "execution_count": null,
   "metadata": {
    "scrolled": false
   },
   "outputs": [],
   "source": [
    "\n"
   ]
  },
  {
   "cell_type": "markdown",
   "metadata": {},
   "source": [
    "\n"
   ]
  },
  {
   "cell_type": "code",
   "execution_count": null,
   "metadata": {},
   "outputs": [],
   "source": []
  },
  {
   "cell_type": "code",
   "execution_count": null,
   "metadata": {},
   "outputs": [],
   "source": []
  },
  {
   "cell_type": "markdown",
   "metadata": {},
   "source": [
    "\n"
   ]
  },
  {
   "cell_type": "markdown",
   "metadata": {},
   "source": [
    "\n"
   ]
  },
  {
   "cell_type": "code",
   "execution_count": null,
   "metadata": {},
   "outputs": [],
   "source": []
  },
  {
   "cell_type": "code",
   "execution_count": null,
   "metadata": {},
   "outputs": [],
   "source": []
  },
  {
   "cell_type": "code",
   "execution_count": null,
   "metadata": {},
   "outputs": [],
   "source": []
  },
  {
   "cell_type": "code",
   "execution_count": null,
   "metadata": {},
   "outputs": [],
   "source": []
  },
  {
   "cell_type": "markdown",
   "metadata": {},
   "source": [
    "### Conclusion"
   ]
  },
  {
   "cell_type": "code",
   "execution_count": null,
   "metadata": {},
   "outputs": [],
   "source": []
  },
  {
   "cell_type": "code",
   "execution_count": null,
   "metadata": {},
   "outputs": [],
   "source": []
  },
  {
   "cell_type": "code",
   "execution_count": null,
   "metadata": {},
   "outputs": [],
   "source": []
  },
  {
   "cell_type": "code",
   "execution_count": null,
   "metadata": {},
   "outputs": [],
   "source": []
  },
  {
   "cell_type": "code",
   "execution_count": null,
   "metadata": {},
   "outputs": [],
   "source": []
  },
  {
   "cell_type": "code",
   "execution_count": null,
   "metadata": {},
   "outputs": [],
   "source": []
  },
  {
   "cell_type": "code",
   "execution_count": null,
   "metadata": {},
   "outputs": [],
   "source": []
  },
  {
   "cell_type": "markdown",
   "metadata": {},
   "source": [
    "### References\n",
    "[1] Kiddon, Chloé, Luke Zettlemoyer, and Yejin Choi. \"Globally coherent text generation with neural checklist models.\" In Proceedings of the 2016 Conference on Empirical Methods in Natural Language Processing, pp. 329-339. 2016.\n",
    "\n",
    "[2] Majumder, Bodhisattwa Prasad, Shuyang Li, Jianmo Ni, and Julian McAuley. \"Generating personalized recipes from historical user preferences.\" arXiv preprint arXiv:1909.00105 (2019).\n",
    "\n",
    "[3] https://www.kaggle.com/kanaryayi/recipe-ingredients-and-reviews. \n",
    "\n"
   ]
  }
 ],
 "metadata": {
  "kernelspec": {
   "display_name": "Python 3",
   "language": "python",
   "name": "python3"
  },
  "language_info": {
   "codemirror_mode": {
    "name": "ipython",
    "version": 3
   },
   "file_extension": ".py",
   "mimetype": "text/x-python",
   "name": "python",
   "nbconvert_exporter": "python",
   "pygments_lexer": "ipython3",
   "version": "3.7.1"
  }
 },
 "nbformat": 4,
 "nbformat_minor": 4
}
